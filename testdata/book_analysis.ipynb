{
 "cells": [
  {
   "cell_type": "markdown",
   "id": "49dee54d-9446-4e30-a329-aaaae2a16ecc",
   "metadata": {},
   "source": [
    "# Load the book"
   ]
  },
  {
   "cell_type": "code",
   "execution_count": 1,
   "id": "f15ec0fe-d128-4bae-855c-f7de2fab2a79",
   "metadata": {},
   "outputs": [],
   "source": [
    "with open(\"miracle_in_the_andes.txt\", encoding=\"utf-8\") as file:\n",
    "    book = file.read()"
   ]
  },
  {
   "cell_type": "code",
   "execution_count": 2,
   "id": "09e51203-024b-40a8-bd59-360871984370",
   "metadata": {},
   "outputs": [
    {
     "data": {
      "text/plain": [
       "str"
      ]
     },
     "execution_count": 2,
     "metadata": {},
     "output_type": "execute_result"
    }
   ],
   "source": [
    "type(book)"
   ]
  },
  {
   "cell_type": "markdown",
   "id": "6414cc26-dba7-4e9e-b34b-a3835a4a5b53",
   "metadata": {},
   "source": [
    "# How many chapters?"
   ]
  },
  {
   "cell_type": "markdown",
   "id": "e34e93d8-5710-4504-8ec6-9858399a428d",
   "metadata": {},
   "source": [
    "### With string method"
   ]
  },
  {
   "cell_type": "code",
   "execution_count": 3,
   "id": "08572632-e709-48da-a17b-13f72714f4fa",
   "metadata": {},
   "outputs": [
    {
     "data": {
      "text/plain": [
       "11"
      ]
     },
     "execution_count": 3,
     "metadata": {},
     "output_type": "execute_result"
    }
   ],
   "source": [
    "book.count(\"Chapter\")"
   ]
  },
  {
   "cell_type": "markdown",
   "id": "ad53f184-9da3-4375-b266-52faf4e3dfdf",
   "metadata": {},
   "source": [
    "### With regrex"
   ]
  },
  {
   "cell_type": "code",
   "execution_count": 4,
   "id": "457398dd-a79c-4cff-a7a5-b9a40496be97",
   "metadata": {},
   "outputs": [
    {
     "data": {
      "text/plain": [
       "10"
      ]
     },
     "execution_count": 4,
     "metadata": {},
     "output_type": "execute_result"
    }
   ],
   "source": [
    "import re\n",
    "pattern = re.compile(\"Chapter [0-9]+\")\n",
    "findings = re.findall(pattern, book)\n",
    "len(findings)"
   ]
  },
  {
   "cell_type": "markdown",
   "id": "2a0cfa27-ebff-4114-a66b-0c3bdaf3c610",
   "metadata": {},
   "source": [
    "# Which are the sentences where \"love\" was used?"
   ]
  },
  {
   "cell_type": "code",
   "execution_count": 5,
   "id": "3e85152e-ecd1-4455-b629-53035c187aed",
   "metadata": {},
   "outputs": [
    {
     "data": {
      "text/plain": [
       "67"
      ]
     },
     "execution_count": 5,
     "metadata": {},
     "output_type": "execute_result"
    }
   ],
   "source": [
    "pattern = re.compile(\"[A-Z]{1}[^.]*[^a-zA-Z]+love[^a-zA-Z]+[^.]*.\")\n",
    "findings = re.findall(pattern, book)\n",
    "len(findings)"
   ]
  },
  {
   "cell_type": "markdown",
   "id": "e9008ec1-2812-4e24-9802-b7e61a4521ed",
   "metadata": {},
   "source": [
    "# What are the most used words in the book?"
   ]
  },
  {
   "cell_type": "code",
   "execution_count": 6,
   "id": "6bc7502c-29ba-456f-9676-98ac5059337b",
   "metadata": {
    "scrolled": true
   },
   "outputs": [
    {
     "data": {
      "text/plain": [
       "['chapter', 'before', 'it', 'was', 'friday']"
      ]
     },
     "execution_count": 6,
     "metadata": {},
     "output_type": "execute_result"
    }
   ],
   "source": [
    "pattern = re.compile(\"[a-zA-Z]+\")\n",
    "matches = re.findall(pattern, book.lower())\n",
    "matches[:5]"
   ]
  },
  {
   "cell_type": "code",
   "execution_count": 7,
   "id": "fa340ece-4eb7-4707-8acc-4064c7b58a69",
   "metadata": {},
   "outputs": [],
   "source": [
    "dict_word ={}\n",
    "for word in matches:\n",
    "    if word in dict_word.keys():\n",
    "        dict_word[word] = dict_word[word] + 1\n",
    "    else:\n",
    "        dict_word[word] = 1"
   ]
  },
  {
   "cell_type": "code",
   "execution_count": 8,
   "id": "28bcedb7-591f-4917-ae9b-2be224063489",
   "metadata": {},
   "outputs": [],
   "source": [
    "d_list = [(value, key) for (key, value) in dict_word.items()]\n",
    "d_list = sorted(d_list, reverse= True)"
   ]
  },
  {
   "cell_type": "code",
   "execution_count": 9,
   "id": "05befd90-cccf-4e5b-86a1-3b52dea8321b",
   "metadata": {},
   "outputs": [
    {
     "ename": "ModuleNotFoundError",
     "evalue": "No module named 'nltk'",
     "output_type": "error",
     "traceback": [
      "\u001b[1;31m---------------------------------------------------------------------------\u001b[0m",
      "\u001b[1;31mModuleNotFoundError\u001b[0m                       Traceback (most recent call last)",
      "Cell \u001b[1;32mIn[9], line 1\u001b[0m\n\u001b[1;32m----> 1\u001b[0m \u001b[38;5;28;01mimport\u001b[39;00m \u001b[38;5;21;01mnltk\u001b[39;00m\n\u001b[0;32m      2\u001b[0m \u001b[38;5;28;01mfrom\u001b[39;00m \u001b[38;5;21;01mnltk\u001b[39;00m\u001b[38;5;21;01m.\u001b[39;00m\u001b[38;5;21;01mcorpus\u001b[39;00m \u001b[38;5;28;01mimport\u001b[39;00m stopwords\n\u001b[0;32m      3\u001b[0m nltk\u001b[38;5;241m.\u001b[39mdownload(\u001b[38;5;124m'\u001b[39m\u001b[38;5;124mstopwords\u001b[39m\u001b[38;5;124m'\u001b[39m)\n",
      "\u001b[1;31mModuleNotFoundError\u001b[0m: No module named 'nltk'"
     ]
    }
   ],
   "source": [
    "import nltk\n",
    "from nltk.corpus import stopwords\n",
    "nltk.download('stopwords')\n",
    "\n",
    "english_stopwords = stopwords.words(\"english\")\n",
    "english_stopwords"
   ]
  }
 ],
 "metadata": {
  "kernelspec": {
   "display_name": "Python 3 (ipykernel)",
   "language": "python",
   "name": "python3"
  },
  "language_info": {
   "codemirror_mode": {
    "name": "ipython",
    "version": 3
   },
   "file_extension": ".py",
   "mimetype": "text/x-python",
   "name": "python",
   "nbconvert_exporter": "python",
   "pygments_lexer": "ipython3",
   "version": "3.12.2"
  }
 },
 "nbformat": 4,
 "nbformat_minor": 5
}
